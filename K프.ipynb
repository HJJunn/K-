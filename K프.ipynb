{
  "nbformat": 4,
  "nbformat_minor": 0,
  "metadata": {
    "colab": {
      "private_outputs": true,
      "provenance": [],
      "mount_file_id": "1e-nZ4DQM71nmV0sjl1r-wLwgXnjpK6VB",
      "authorship_tag": "ABX9TyN/5NHWZu8Wa0sAgda87dcn",
      "include_colab_link": true
    },
    "kernelspec": {
      "name": "python3",
      "display_name": "Python 3"
    },
    "language_info": {
      "name": "python"
    }
  },
  "cells": [
    {
      "cell_type": "markdown",
      "metadata": {
        "id": "view-in-github",
        "colab_type": "text"
      },
      "source": [
        "<a href=\"https://colab.research.google.com/github/HJJunn/K-Project/blob/main/K%ED%94%84.ipynb\" target=\"_parent\"><img src=\"https://colab.research.google.com/assets/colab-badge.svg\" alt=\"Open In Colab\"/></a>"
      ]
    },
    {
      "cell_type": "code",
      "execution_count": null,
      "metadata": {
        "id": "cu9fx9zNfT4R"
      },
      "outputs": [],
      "source": [
        "import pandas as pd\n",
        "import numpy as np"
      ]
    },
    {
      "cell_type": "code",
      "source": [
        "from google.colab import drive\n",
        "drive.mount('/content/drive')"
      ],
      "metadata": {
        "id": "4IzU4XSEQM5T"
      },
      "execution_count": null,
      "outputs": []
    },
    {
      "cell_type": "code",
      "source": [
        "#데이터 불러오기\n",
        "df = pd.read_csv(\"/content/drive/MyDrive/k프로젝트 추천시스템.csv\")\n",
        "df"
      ],
      "metadata": {
        "id": "4OloiCqBfZiy"
      },
      "execution_count": null,
      "outputs": []
    },
    {
      "cell_type": "code",
      "source": [
        "#데이터 확인하기\n",
        "df.info()"
      ],
      "metadata": {
        "id": "nD7UDee8fvgn"
      },
      "execution_count": null,
      "outputs": []
    },
    {
      "cell_type": "code",
      "source": [
        "df.describe().T"
      ],
      "metadata": {
        "id": "ShjRUrEqjGJM"
      },
      "execution_count": null,
      "outputs": []
    },
    {
      "cell_type": "code",
      "source": [
        "df.columns"
      ],
      "metadata": {
        "id": "sy9EvxAEheHR"
      },
      "execution_count": null,
      "outputs": []
    },
    {
      "cell_type": "code",
      "source": [
        "df.StudentID.nunique()"
      ],
      "metadata": {
        "id": "_X3sscoyngUC"
      },
      "execution_count": null,
      "outputs": []
    },
    {
      "cell_type": "code",
      "source": [
        "df1 = df.copy()"
      ],
      "metadata": {
        "id": "HRaXwNgJq5Hh"
      },
      "execution_count": null,
      "outputs": []
    },
    {
      "cell_type": "code",
      "source": [
        "#사용자간의 유사도 찾기 - 코사인 유사도\n",
        "from sklearn.metrics.pairwise import cosine_similarity\n",
        "def similar_users(id, matrix, k=3):\n",
        "    user = matrix(matrix.index == id)\n",
        "    other_users = matirx(matrix.index != id)\n",
        "    s = cosine_similarity(user,other_users)[0].tolist()\n"
      ],
      "metadata": {
        "id": "Za72QUQJfvUx"
      },
      "execution_count": null,
      "outputs": []
    },
    {
      "cell_type": "code",
      "source": [
        "#로지스틱 회귀분석하기\n",
        "from sklearn.model_selection import train_test_split\n",
        "from sklearn.linear_model import LogisticRegression\n",
        "from sklearn.preprocessing import MinMaxScaler\n",
        "\n",
        "# 데이터 전처리  Min-Max 스케일링\n",
        "scaler = MinMaxScaler()\n",
        "df[['Clicks', 'Searches', 'Duration']] = scaler.fit_transform(df[['Clicks', 'Searches', 'Duration']])\n",
        "print(df)\n",
        "#독립변수\n",
        "X = df[['Clicks', 'Likes','Searches', 'Duration']]\n",
        "#종속변수\n",
        "y = df['Visits']\n",
        "#데이터 분할\n",
        "X_train, X_test, y_train, y_test = train_test_split(X, y, test_size=0.2, random_state=42)"
      ],
      "metadata": {
        "id": "bVJxn8i5wmN6"
      },
      "execution_count": null,
      "outputs": []
    },
    {
      "cell_type": "code",
      "source": [
        "# 로지스틱 회귀 모델 생성\n",
        "model = LogisticRegression()\n",
        "\n",
        "# 모델 학습\n",
        "model.fit(X_train, y_train)\n",
        "\n",
        "# 테스트 데이터로 예측\n",
        "y_pred = model.predict(X_test)\n",
        "\n",
        "# 회귀 계수 출력\n",
        "coef = model.coef_[0]\n",
        "for i, coeff in enumerate(coef):\n",
        "    print(f\"독립 변수 {X.columns[i]}의 회귀 계수: {coeff:.2f}\")"
      ],
      "metadata": {
        "id": "It2P5W94yfmz"
      },
      "execution_count": null,
      "outputs": []
    },
    {
      "cell_type": "code",
      "source": [
        "from statsmodels.stats.outliers_influence import variance_inflation_factor\n",
        "\n",
        "# 예시: VIF 계산\n",
        "X = df[['Clicks', 'Likes','Searches', 'Duration']]\n",
        "vif_data = pd.DataFrame()\n",
        "vif_data['독립변수'] = X.columns\n",
        "vif_data['VIF'] = [variance_inflation_factor(X.values, i) for i in range(X.shape[1])]\n",
        "print(vif_data)"
      ],
      "metadata": {
        "id": "iUKWsWm77V_m"
      },
      "execution_count": null,
      "outputs": []
    },
    {
      "cell_type": "code",
      "source": [
        "from sklearn.metrics import accuracy_score, confusion_matrix, classification_report\n",
        "# 성능 평가\n",
        "accuracy = accuracy_score(y_test, y_pred)\n",
        "conf_matrix = confusion_matrix(y_test, y_pred)\n",
        "class_report = classification_report(y_test, y_pred)\n",
        "\n",
        "# 결과 출력\n",
        "print(\"Accuracy:\", accuracy)\n",
        "print(\"Confusion Matrix:\")\n",
        "print(conf_matrix)\n",
        "print(\"Classification Report:\")\n",
        "print(class_report)"
      ],
      "metadata": {
        "id": "MYBMn_O4mM2m"
      },
      "execution_count": null,
      "outputs": []
    },
    {
      "cell_type": "code",
      "source": [
        "corr = df[['Clicks', 'Likes','Searches', 'Duration','Visits']].corr()"
      ],
      "metadata": {
        "id": "rJAN3DSb8SWC"
      },
      "execution_count": null,
      "outputs": []
    },
    {
      "cell_type": "code",
      "source": [
        "import matplotlib.pyplot as plt\n",
        "import seaborn as sns\n",
        "plt.figure(figsize = (10,9))\n",
        "sns.heatmap(corr, annot = True, fmt = '.2f')"
      ],
      "metadata": {
        "id": "EEGw5Npd8-1e"
      },
      "execution_count": null,
      "outputs": []
    },
    {
      "cell_type": "code",
      "source": [
        "#회귀 계수를 가중치로 하여 선호도 변수 생성\n",
        "df1['Preference'] = np.where(\n",
        "    (df1['Clicks'] >= 4) & (df1['Searches'] >= 3) & (df1['Duration'] >= 150),\n",
        "    df1['Clicks'] * coef[0] +\n",
        "    df1['Likes'] * coef[1] +\n",
        "    df1['Duration'] * coef[2] +\n",
        "    df1['Searches'] * coef[3],\n",
        "    0\n",
        ")\n",
        "df1"
      ],
      "metadata": {
        "id": "WIrIekJVR-_j"
      },
      "execution_count": null,
      "outputs": []
    },
    {
      "cell_type": "code",
      "source": [
        "df1['Preference'] = df1.Preference.round()/10"
      ],
      "metadata": {
        "id": "UmEtsGjrrHF6"
      },
      "execution_count": null,
      "outputs": []
    },
    {
      "cell_type": "code",
      "source": [
        "df1.describe()"
      ],
      "metadata": {
        "id": "2Ljug0d4otZL"
      },
      "execution_count": null,
      "outputs": []
    },
    {
      "cell_type": "code",
      "source": [
        "df_visits = df1[df1['Visits'] == 0]\n",
        "df_visits"
      ],
      "metadata": {
        "id": "aUlrf9zPtnIS"
      },
      "execution_count": null,
      "outputs": []
    },
    {
      "cell_type": "code",
      "source": [
        "df_pre= df1[df1['Preference'] == 0]\n",
        "df_pre"
      ],
      "metadata": {
        "id": "q5SqGhjhpml8"
      },
      "execution_count": null,
      "outputs": []
    },
    {
      "cell_type": "code",
      "source": [
        "#피벗테이블로 변경\n",
        "pre_matrix = df1.pivot_table(index = 'Booth', columns = 'StudentID', values = 'Preference')\n",
        "pre_matrix"
      ],
      "metadata": {
        "id": "IjRoixbzwRST"
      },
      "execution_count": null,
      "outputs": []
    },
    {
      "cell_type": "code",
      "source": [
        "pre_matrix_T = pre_matrix.T\n",
        "pre_matrix_T.head()"
      ],
      "metadata": {
        "id": "vHEYW2d4Wv24"
      },
      "execution_count": null,
      "outputs": []
    },
    {
      "cell_type": "code",
      "source": [
        "from sklearn.metrics.pairwise import cosine_similarity\n",
        "\n",
        "similarity_pre = cosine_similarity(pre_matrix, pre_matrix)\n",
        "similarity_pre"
      ],
      "metadata": {
        "id": "GM3xOhmBvTdq"
      },
      "execution_count": null,
      "outputs": []
    },
    {
      "cell_type": "code",
      "source": [
        "simi_pre = pd.DataFrame(\n",
        "    data = similarity_pre,\n",
        "    index = pre_matrix.index,\n",
        "    columns = pre_matrix.index\n",
        ")\n",
        "simi_pre.head()"
      ],
      "metadata": {
        "id": "1aLsB2MD6gkt"
      },
      "execution_count": null,
      "outputs": []
    },
    {
      "cell_type": "code",
      "source": [
        "#가장 유사도가 높은 top5\n",
        "def recommand_Booth(Booth):\n",
        "    return simi_pre[Booth].sort_values(ascending = False)[:6]"
      ],
      "metadata": {
        "id": "hHtUweJO67v0"
      },
      "execution_count": null,
      "outputs": []
    },
    {
      "cell_type": "code",
      "source": [
        "recommand_Booth(\"공연1\")"
      ],
      "metadata": {
        "id": "ZSSMHnmG70Vp"
      },
      "execution_count": null,
      "outputs": []
    },
    {
      "cell_type": "code",
      "source": [
        "# 사용자가 평가하지 않은 아이템 찾기 함수\n",
        "def find_unrated_items(user_id):\n",
        "    return pre_matrix.index[pre_matrix.loc[:, user_id] == 0]\n",
        "\n",
        "# 사용자가 평가하지 않은 아이템에 대해 선호도 예측 함수\n",
        "def predict_preference(user_id):\n",
        "    unrated_items = find_unrated_items(user_id)\n",
        "    predicted_preferences = {}\n",
        "\n",
        "    for item in unrated_items:\n",
        "        # 해당 아이템의 유사도가 높은 다른 아이템들을 가져옴\n",
        "        similar_items = simi_pre[item].drop(item)\n",
        "\n",
        "        # 다른 아이템들의 평점과 유사도를 곱하여 가중 평점 계산\n",
        "        weighted_sum = 0\n",
        "        similarity_sum = 0\n",
        "\n",
        "        for similar_item, similarity in similar_items.items():\n",
        "            rating = pre_matrix.loc[similar_item, user_id]  # 사용자가 평가한 해당 아이템의 평점\n",
        "            if rating != 0:  # 사용자가 평가한 아이템일 경우에만 가중 평점에 포함\n",
        "                weighted_sum += rating * similarity\n",
        "                similarity_sum += similarity\n",
        "\n",
        "        if similarity_sum != 0:\n",
        "            predicted_preferences[item] = weighted_sum / similarity_sum\n",
        "        else:\n",
        "            predicted_preferences[item] = 1  # 모든 유사도가 0일 경우 0으로 예측\n",
        "\n",
        "    return predicted_preferences\n",
        "\n",
        "\n",
        "user_id = 202301244\n",
        "predicted_preferences = predict_preference(user_id)\n",
        "print(f\"{user_id}에 대한 아이템별 선호도 예측:\")\n",
        "for item, preference in predicted_preferences.items():\n",
        "    print(f\"{item}: {preference:.2f}\")"
      ],
      "metadata": {
        "id": "NebRHjMz-AWO"
      },
      "execution_count": null,
      "outputs": []
    },
    {
      "cell_type": "code",
      "source": [
        "from sklearn.metrics import mean_squared_error\n",
        "\n",
        "def get_mse(pred, actual):\n",
        "\n",
        "    pred = pred[actual.nonzero()].flatten()\n",
        "    actual = actual[actual.nonzero()].flatten()\n",
        "    return mean_squared_error(pred, actual)\n",
        "\n",
        "print('아이템 기반 모든 인접 이웃 MSE: ', get_mse(ratings_pred, ratings_matrix.values ))"
      ],
      "metadata": {
        "id": "1WD43vKqcxJr"
      },
      "execution_count": null,
      "outputs": []
    },
    {
      "cell_type": "code",
      "source": [],
      "metadata": {
        "id": "DBnJ46aZYXja"
      },
      "execution_count": null,
      "outputs": []
    },
    {
      "cell_type": "code",
      "source": [],
      "metadata": {
        "id": "AVPRPu-uQ9IB"
      },
      "execution_count": null,
      "outputs": []
    }
  ]
}